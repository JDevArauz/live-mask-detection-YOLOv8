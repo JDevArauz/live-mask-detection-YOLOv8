{
  "cells": [
    {
      "cell_type": "markdown",
      "metadata": {
        "id": "tXaRiXe5UyR5"
      },
      "source": [
        "## YOLO v8 - Detección de máscarillas"
      ]
    },
    {
      "cell_type": "code",
      "execution_count": 1,
      "metadata": {
        "colab": {
          "base_uri": "https://localhost:8080/"
        },
        "id": "MbZDc5yngsYg",
        "outputId": "ba83bb17-f21f-41bf-add6-792cdd87d763"
      },
      "outputs": [],
      "source": [
        "# IMPORTANDO LIBRERIAS NECESARIAS Y PROBANDO LA INSTALACION DE YOLO CORRECTAMENTE\n",
        "import os # LIBRERIA PARA MANEJAR ARCHIVOS Y DIRECTORIOS\n",
        "import json # LIBRERIA PARA MANEJAR ARCHIVOS JSON\n",
        "import glob # LIBRERIA PARA MANEJAR ARCHIVOS\n",
        "import torch # LIBRERIA DE PYTORCH\n",
        "import shutil # LIBRERIA PARA MOVER ARCHIVOS\n",
        "import subprocess # LIBRERIA PARA EJECUTAR COMANDOS DE CONSOLA\n",
        "import ultralytics # LIBRERIA DE YOLO\n",
        "from PIL import Image # LIBRERIA PARA MANEJAR IMAGENES\n",
        "import xml.etree.cElementTree as ET # LIBRERIA PARA MANEJAR ARCHIVOS XML\n",
        "\n",
        "# DEFINIENDO TU DIRECTORIO DE TRABAJO\n",
        "root_dir = os.getcwd()\n"
      ]
    },
    {
      "cell_type": "code",
      "execution_count": 2,
      "metadata": {
        "colab": {
          "base_uri": "https://localhost:8080/"
        },
        "id": "wl_gROhDgvH2",
        "outputId": "721e5008-688c-4bf7-ab28-f3f3598adb96"
      },
      "outputs": [
        {
          "name": "stdout",
          "output_type": "stream",
          "text": [
            "\n",
            "<annotation>\n",
            "    <folder>images</folder>\n",
            "    <filename>maksssksksss9.png</filename>\n",
            "    <size>\n",
            "        <width>267</width>\n",
            "        <height>400</height>\n",
            "        <depth>3</depth>\n",
            "    </size>\n",
            "    <segmented>0</segmented>\n",
            "    <object>\n",
            "        <name>mask_weared_incorrect</name>\n",
            "        <pose>Unspecified</pose>\n",
            "        <truncated>0</truncated>\n",
            "        <occluded>0</occluded>\n",
            "        <difficult>0</difficult>\n",
            "        <bndbox>\n",
            "            <xmin>148</xmin>\n",
            "            <ymin>75</ymin>\n",
            "            <xmax>201</xmax>\n",
            "            <ymax>133</ymax>\n",
            "        </bndbox>\n",
            "    </object>\n",
            "    <object>\n",
            "        <name>without_mask</name>\n",
            "        <pose>Unspecified</pose>\n",
            "        <truncated>0</truncated>\n",
            "        <occluded>0</occluded>\n",
            "        <difficult>0</difficult>\n",
            "        <bndbox>\n",
            "            <xmin>27</xmin>\n",
            "            <ymin>78</ymin>\n",
            "            <xmax>56</xmax>\n",
            "            <ymax>106</ymax>\n",
            "        </bndbox>\n",
            "    </object>\n",
            "</annotation>\n"
          ]
        }
      ],
      "source": [
        "# VISUALIZANDO EL CONTENIDO DE LOS XML DE LAS ANOTACIONES DE LAS IMAGENES (ETIQUETADO)\n",
        "with open(os.path.join(\"./dataset/annotations\",\"maksssksksss9.xml\")) as f:\n",
        "    contents = f.read()\n",
        "    print(contents)"
      ]
    },
    {
      "cell_type": "markdown",
      "metadata": {
        "id": "kU2HF8HADbUe"
      },
      "source": [
        "### 1- PREPARACIÓN DEL DATASET"
      ]
    },
    {
      "cell_type": "code",
      "execution_count": 3,
      "metadata": {
        "id": "T9UWTNhJiuLf"
      },
      "outputs": [
        {
          "name": "stdout",
          "output_type": "stream",
          "text": [
            "[\"without_mask\", \"with_mask\", \"mask_weared_incorrect\"]\n"
          ]
        }
      ],
      "source": [
        "# DEFINIENDO LOS DIRECTORIOS DE IMAGENES, ANOTACIONES Y ETIQUETAS\n",
        "# DEFINIENDO LAS CLASES -> ETIQUETAS DE NUESTRO MODELO\n",
        "classes = [\"without_mask\", \"with_mask\", \"mask_weared_incorrect\"]\n",
        "image_dir = os.path.join(\"./dataset\",\"images\")\n",
        "input_dir = os.path.join(\"./dataset\",\"annotations\")\n",
        "output_dir = os.path.join(\"./dataset\",\"labels\")\n",
        "# VERIFICANDO SI EL DIRECTORIO DE SALIDA EXISTE, SI NO, LO CREA\n",
        "if not os.path.isdir(output_dir):\n",
        "    os.mkdir(output_dir)\n",
        "# ---------------------------------------------------------------------------------------------------------------------\n",
        "\n",
        "# CONVIERTE EL ARCHIVO XML DE CADA IMG A TXT DEVOLVIENDO ASI X, Y, ANCHO Y ALTO DE LA IMAGEN DE SU MARCO DELIMITADOR\n",
        "def xml_to_yolo_bbox(bbox, w, h):\n",
        "    # bbox (bounding box) -> MARCO O CAJA DELIMITADORA EN FORMATO DE COORDENADAS (XMIN, YMIN, XMAX, YMAX)\n",
        "    # bbox ES UN RECTANGULO QUE RODEA UN OBJETO EN UNA IMAGEN PARA IDENTIFICAR SU POSICION Y TAMAÑO\n",
        "    centro_x = ((bbox[2] + bbox[0]) / 2) / w\n",
        "    centro_y = ((bbox[3] + bbox[1]) / 2) / h\n",
        "    # ESTO ES PARA NORMALIZAR LOS VALORES DE ANCHO Y ALTO DE LA IMAGEN EN 1 y 0\n",
        "    ancho = (bbox[2] - bbox[0]) / w \n",
        "    alto = (bbox[3] - bbox[1]) / h\n",
        "\n",
        "    return [centro_x, centro_y, ancho, alto]\n",
        "\n",
        "# ---------------------------------------------------------------------------------------------------------------------\n",
        "\n",
        "def generating_labels(file):\n",
        "    result = []\n",
        "    # ANALIZANDO EL CONTENIDO DEL ARCHIVO XML\n",
        "    tree = ET.parse(file)\n",
        "    # OBTENIENDO LAS PROPIEDADES DE LA IMAGEN\n",
        "    root = tree.getroot()\n",
        "    # EXTRAYENDO ANCHO Y ALTO DE LA IMAGEN DESDE SUS PROPEDADES\n",
        "    width = int(root.find(\"size\").find(\"width\").text)\n",
        "    height = int(root.find(\"size\").find(\"height\").text)\n",
        "    # OBTENIENDO UNA LISTA CON EL OBJETO DE CADA IMAGEN\n",
        "    for obj in root.findall(\"object\"):\n",
        "        # EXTRAYENDO EL NOMBRE DE LA CLASE (ETIQUETA) DE CADA OBJETO DE IMAGEN\n",
        "        label = obj.find(\"name\").text\n",
        "\n",
        "        # VERIFICA SI HAY NUEVAS CLASES Y LAS AGREGA A LA LISTA DE CLASES\n",
        "        if label not in classes:\n",
        "          classes.append(label)\n",
        "        index = classes.index(label) # 0:SIN MASCARILLA 1:CON MASCARILLA 2:MASCARILLA MAL PUESTA\n",
        "\n",
        "        pil_bbox = [int(x.text) for x in obj.find(\"bndbox\")] # OBTENIENDO EL MARCO DE LA IMAGEN\n",
        "        yolo_bbox = xml_to_yolo_bbox(pil_bbox, width, height) # AJUSTANDO EL MARCO DE LA IMAGEN A UN MARCO PARA YOLO\n",
        "\n",
        "        # CONVIRTIENDO LOS DATOS DEL OBJETO DEL MARCO DE LA IMAGEN DE YOLO A STRING\n",
        "        bbox_string = \" \".join([str(x) for x in yolo_bbox]) #\n",
        "        result.append(f\"{index} {bbox_string}\")\n",
        "    if result:\n",
        "        # CONVIRTIENDO EL ARCHIVO XML A UN ARCHIVO TXT DE YOLO\n",
        "        with open(os.path.join(output_dir, f\"{filename}.txt\"), \"w\", encoding = \"utf-8\") as f:\n",
        "            f.write(\"\\n\".join(result))\n",
        "            \n",
        "# ---------------------------------------------------------------------------------------------------------------------   \n",
        "\n",
        "# OBTENIENDO TODOS LOS FILES DE TIPO XML DEL INPUT DIRECTORY\n",
        "files = glob.glob(os.path.join(input_dir, \"*.xml\"))\n",
        "# RECORRIENDO CADA ARCHIVO XML Y BUSCANDO SU IMAGEN CORRESPONDIENTE\n",
        "for file in files:\n",
        "    basename = os.path.basename(file)\n",
        "    filename = os.path.splitext(basename)[0]\n",
        "    if not os.path.exists(os.path.join(image_dir, f\"{filename}.png\")):\n",
        "        print(f\"{filename} la imagen NO existe!\")\n",
        "        continue\n",
        "    generating_labels(file)\n",
        "# GENERANDO LAS CATEGORIAS O CLASSES DE NUESTRO MODELO\n",
        "with open(\"./classes.txt\", \"w\", encoding = \"utf-8\") as f:\n",
        "    f.write(json.dumps(classes))\n",
        "    \n",
        "# ---------------------------------------------------------------------------------------------------------------------\n",
        "\n",
        "# MOSTRANDO LAS ETIQUETAS DE CLASSES GENERADAS \n",
        "with open('./classes.txt') as f:\n",
        "    contents = f.read()\n",
        "    print(contents)"
      ]
    },
    {
      "cell_type": "code",
      "execution_count": 4,
      "metadata": {
        "colab": {
          "base_uri": "https://localhost:8080/"
        },
        "id": "brYNcfBJE64V",
        "outputId": "f0d6aab7-6850-4bbb-e189-0c86c902b459"
      },
      "outputs": [
        {
          "name": "stdout",
          "output_type": "stream",
          "text": [
            "1 0.21625 0.19137931034482758 0.0925 0.09310344827586207\n",
            "1 0.415 0.20862068965517241 0.06 0.09310344827586207\n",
            "1 0.625 0.17758620689655172 0.06 0.1206896551724138\n",
            "2 0.87375 0.16551724137931034 0.0825 0.11724137931034483\n"
          ]
        }
      ],
      "source": [
        "# MOSTRANDO LAS ETIQUETAS DE LAS IMAGENES EN FORMATO YOLO\n",
        "with open(os.path.join(\"./dataset/labels\",\"maksssksksss2.txt\")) as f:\n",
        "    contents = f.read()\n",
        "    print(contents)"
      ]
    },
    {
      "cell_type": "markdown",
      "metadata": {
        "id": "8TiSKZXVFTso"
      },
      "source": [
        "### CREANDO LAS CARPETAS NECESARIAS"
      ]
    },
    {
      "cell_type": "code",
      "execution_count": null,
      "metadata": {
        "id": "0upDQL5Skqzr"
      },
      "outputs": [],
      "source": [
        "# CREANDO LAS CARPETAS DE ENTRENAMIENTO, VALIDACION Y PRUEBA\n",
        "if os.path.isfile(os.path.join(\"./dataset/data\")):\n",
        "    print(\"ESTA CARPETA YA EXISTE!\")\n",
        "else:\n",
        "    os.mkdir(os.path.join(\"./dataset/data\"))\n",
        "    os.mkdir(os.path.join(\"./dataset/data/train\"))\n",
        "    os.mkdir(os.path.join(\"./dataset/data/val\"))\n",
        "    os.mkdir(os.path.join(\"./dataset/data/test\"))\n",
        "    os.mkdir(os.path.join(\"./dataset/data/train/images\"))\n",
        "    os.mkdir(os.path.join(\"./dataset/data/train/labels\"))\n",
        "    os.mkdir(os.path.join(\"./dataset/data/test/images\"))\n",
        "    os.mkdir(os.path.join(\"./dataset/data/test/labels\"))\n",
        "    os.mkdir(os.path.join(\"./dataset/data/val/images\"))\n",
        "    os.mkdir(os.path.join(\"./dataset/data/val/labels\"))\n",
        "    print(\"CARPETAS CREADAS CON EXITO!\")"
      ]
    },
    {
      "cell_type": "code",
      "execution_count": 6,
      "metadata": {
        "colab": {
          "base_uri": "https://localhost:8080/"
        },
        "id": "Vg18vFLLk0Qz",
        "outputId": "45be6767-7c89-474f-d243-77b846085dd8"
      },
      "outputs": [],
      "source": [
        "# GUARDANDO LOS NOMBRES DE LAS IMAGENES EN UNA LISTA\n",
        "img_names = []\n",
        "\n",
        "for i in os.listdir(os.path.join(\"./dataset/images\")):\n",
        "    img_name = i[:-4] #ELIMINANDO LA EXTENSION DE LAS IMAGENES\n",
        "    img_names.append(img_name)"
      ]
    },
    {
      "cell_type": "code",
      "execution_count": 7,
      "metadata": {
        "id": "DeykAkONlYmg"
      },
      "outputs": [],
      "source": [
        "# SEPARANDO EL CONJUNTO DE DATOS EN ENTRENAMIENTO, PRUEBA Y VALIDACION\n",
        "def segmentation_data(main_txt_file, main_img_file, train_size, test_size, val_size):\n",
        "    # ASIGNANDO LAS IMAGENES A CADA CARPETA SEGUN EL ENTRENAMIENTO QUE SE DESEE\n",
        "    list_of_trainings = [[0, train_size, \"train\"], # RANGO DE TRAINING\n",
        "                         [train_size , train_size + test_size, \"test\"], # RANGO DE TESTING\n",
        "                         [train_size + test_size , train_size + test_size + val_size, \"val\"]] # RANGO DE VALIDATION\n",
        "    # DATOS DE ENTRENAMIENTO\n",
        "    for i in list_of_trainings:\n",
        "        for j in range(i[0], i[1]):\n",
        "            destination_txt = os.path.join(f'./dataset/data/{i[2]}/labels', img_names[j]+\".txt\")\n",
        "            destination_png = os.path.join(f'./dataset/data/{i[2]}/images', img_names[j]+\".png\")\n",
        "            shutil.copy(f'{main_txt_file}/{img_names[j]}.txt', destination_txt)\n",
        "            shutil.copy(f'{main_img_file}/{img_names[j]}.png', destination_png)\n",
        "\n",
        "# GENERANDO LOS DATOS DE ENTRENAMIENTO, PRUEBA Y VALIDACION        \n",
        "segmentation_data(os.path.join(\"./dataset/labels\"),os.path.join(\"./dataset/images\"), 350, 150, 150) # train_size - test_size - val_size"
      ]
    },
    {
      "cell_type": "code",
      "execution_count": 8,
      "metadata": {
        "colab": {
          "base_uri": "https://localhost:8080/"
        },
        "id": "kGozqnnPt4BM",
        "outputId": "a88d81e8-8291-460d-9354-d861bdf57dab"
      },
      "outputs": [
        {
          "name": "stdout",
          "output_type": "stream",
          "text": [
            "CREANDO EL ARCHIVO YAML\n"
          ]
        }
      ],
      "source": [
        "# EL ARCHIVO YAML CONTIENE LA CONFIGURACION DEL MODELO DE YOLO COMO, PARAMETROS , RUTAS DE LOS DATOS, ETC\n",
        "# SE UTILIZA PARA CONFIGURAR EL MODELO DE YOLO\n",
        "yaml_text = \"\"\"train: ./train/images\n",
        "val: ./val/images\n",
        "nc: 3\n",
        "names: [\"without_mask\", \"with_mask\", \"mask_weared_incorrect\"]\"\"\"\n",
        "\n",
        "try:\n",
        "    with open(os.path.join(\"./dataset/data/data.yaml\"),\"w\") as model_config:\n",
        "        model_config.write(yaml_text)\n",
        "        print(\"CREANDO EL ARCHIVO YAML\")\n",
        "except:\n",
        "    os.mkdir(os.path.join(\"./dataset/data/data.yaml\"))\n",
        "    with open(os.path.join(\"./dataset/data/data.yaml\"),\"w\") as model_config:\n",
        "        model_config.write(yaml_text)\n",
        "        print(\"SE CREO LA CARPETA Y EL ARCHIVO YAML\")"
      ]
    },
    {
      "cell_type": "markdown",
      "metadata": {},
      "source": [
        "# INFORMACIÓN\n",
        "* IoU（Intersection over Union）En el campo de la visión por computadora, IoU se utiliza típicamente para medir la precisión de las predicciones del modelo. La forma de calcular IoU es dividiendo el área de intersección entre el área de unión de la región objetivo predicha (rectángulo) y la región objetivo real. Es decir, IoU = intersección / unión.\n",
        "\n",
        "* En la detección de objetos, cuanto mayor sea el valor de IoU entre el cuadro del objetivo predicho por el modelo y el cuadro del objetivo real, más precisa será la predicción del modelo. Por lo general, cuando IoU supera un umbral predefinido (por ejemplo, 0.5 o 0.7), se puede considerar que la predicción es exitosa en la detección.\n",
        " \n",
        "## mAP50(B) -> Precisión para objetos grandes:\n",
        "* Significa \"Mean Average Precision at IoU 0.50 for Large Objects\".\n",
        "Es el promedio de la precisión (AP) calculada para objetos grandes con un umbral de IoU de 0.50.\n",
        "mAP es el promedio de AP para diferentes clases en un modelo, mientras que mAP50(B) se centra en objetos más grandes.\n",
        "\n",
        "## mAP50-95(B) -> Precisión para objetos grandes:\n",
        "* Significa \"Mean Average Precision across IoU 0.50 to 0.95 for Large Object\".\n",
        "Es el promedio de la precisión (AP) calculada para objetos grandes en un rango de IoU de 0.50 a 0.95.\n",
        "\n",
        "## Precision(B) -> Precisión de el reconocimiento:\n",
        "* Es la precisión calculada para objetos grandes.\n",
        "Representa la proporción de muestras correctamente predichas como positivas (Verdaderos Positivos) sobre todas las muestras predichas como positivas (Verdaderos Positivos + Falsos Positivos).\n",
        "\n",
        "## Recall(B) -> Muestras correctamente identificadas:\n",
        "* Es el recall calculado para objetos grandes.\n",
        "Representa la proporción de muestras correctamente identificadas como positivas (Verdaderos Positivos) sobre todas las muestras positivas (Verdaderos Positivos + Falsos Negativos).\n",
        "Indica cuántos de los objetivos reales se detectaron correctamente.\n",
        "\n",
        "## Dfl_loss (Detection Focal Loss) -> Detección de objetos difíciles:\n",
        "* Es una función de pérdida utilizada en tareas de detección de objetos para abordar el problema de desequilibrio de clases.\n",
        "Se enfoca en aumentar la pérdida para ejemplos positivos difíciles, lo que ayuda al modelo a concentrarse en la detección de objetos difíciles.\n",
        "\n",
        "## Box_loss (Box Regression Loss) -> Detección sobre el marco delimitador de la imagen:\n",
        "* Es una función de pérdida utilizada para evaluar y optimizar las predicciones del modelo sobre las coordenadas de las cajas delimitadoras (bounding boxes).\n",
        "Mide la diferencia entre las coordenadas predichas de la caja delimitadora y las coordenadas reales, y busca minimizar esta diferencia para mejorar la precisión de las predicciones de las cajas delimitadoras.\n",
        "\n",
        "## Cls_loss (Class Classification Loss) -> Precisión de la detección sobre los marcos delimitadores de la imagen:\n",
        "* Es una función de pérdida utilizada en modelos YOLO para evaluar la precisión de clasificación de cada caja delimitadora.\n",
        "Calcula la pérdida comparando las etiquetas de clase predichas con las etiquetas de clase reales, con el objetivo de mejorar el rendimiento de clasificación del modelo."
      ]
    },
    {
      "cell_type": "markdown",
      "metadata": {},
      "source": [
        "### VISUALIZAR EJECUCIÓN EN TIEMPO REAL"
      ]
    },
    {
      "cell_type": "code",
      "execution_count": 28,
      "metadata": {},
      "outputs": [],
      "source": [
        "# EJECUTANDO EL COMANDO DE ENTRENAMIENTO Y MOSTRANDO LOS RESULTADOS EN TIEMPO REAL\n",
        "def view_real_time_output(command):\n",
        "    process = subprocess.Popen(command, shell=True, stdout=subprocess.PIPE, stderr=subprocess.STDOUT)\n",
        "    print(\"SALIDA DEL COMANDO:\")\n",
        "    for byte_line in iter(process.stdout.readline, b''):\n",
        "        decoded_line = byte_line.decode('utf-8', errors='replace').strip()\n",
        "        print(decoded_line)\n",
        "        \n",
        "    # ESPERANDO A QUE EL PROCESO DE ENTRENAMIENTO TERMINE\n",
        "    process.wait()"
      ]
    },
    {
      "cell_type": "markdown",
      "metadata": {
        "id": "dLJI82SIFrTF"
      },
      "source": [
        "### ENTRENAMIENTO"
      ]
    },
    {
      "cell_type": "code",
      "execution_count": null,
      "metadata": {
        "colab": {
          "base_uri": "https://localhost:8080/"
        },
        "id": "YNgrQZJ81RTx",
        "outputId": "c0cdbd78-48e7-4ad1-fe85-d9bcda708377"
      },
      "outputs": [],
      "source": [
        "\n",
        "# ESTABLECIENDO EL DIRECTORIO DE RESULTADOS DEL ENTRENAMIENTO\n",
        "if not os.path.isdir(os.path.join(root_dir,\"./dataset/result\")):\n",
        "    os.mkdir(os.path.join(root_dir,\"./dataset/result\"))\n",
        "    print(\"CREANDO DIRECTORIO DE RESULTADOS\")\n",
        "os.chdir(os.path.join(root_dir,\"./dataset/result\"))\n",
        "data_path= os.path.join(os.path.dirname(os.getcwd()), \"data\", \"data.yaml\")\n",
        "\n",
        "# DEFINIENDO LOS HIPERPARAMETROS PARA EL ENTRENAMIENTO\n",
        "epochs = 50 # EPOCAS DE ENTRENAMIENTO\n",
        "img_size = 640 # TAMANO DE LA IMAGEN A ENTRENAR\n",
        "batch_size = 20 # TAMAÑO DEL LOTE DE IMAGENES\n",
        "\n",
        "# ENTRENANDO EL MODELO DE YOLO\n",
        "command = f\"yolo train model=yolov8n.pt data={data_path} epochs={epochs} imgsz={img_size} batch={batch_size} device=0\"\n",
        "view_real_time_output(command)"
      ]
    },
    {
      "cell_type": "markdown",
      "metadata": {
        "id": "uuAm5t40F2Mu"
      },
      "source": [
        "### DETECCIONES"
      ]
    },
    {
      "cell_type": "code",
      "execution_count": null,
      "metadata": {},
      "outputs": [],
      "source": [
        "# RECONFIGURANDO EL DIRECTORIO A LA RAIZ PARA EVITAR CONFLICTOS\n",
        "os.chdir(root_dir)\n",
        "os.chdir(os.path.join(root_dir,\"./dataset/result/runs/detect/train\"))\n",
        "train_id = '' # ID DEL ENTRENAMIENTO, VACIO EN  CASO DE SER EL PRIMERO\n",
        "train_path= os.path.join(os.path.dirname(os.getcwd()), 'train'+str(train_id)+'/weights', 'best.pt')\n",
        "os.chdir(root_dir)\n",
        "img_test_path = os.path.join(root_dir,\"./dataset/data/test/images\")\n",
        "\n",
        "# EJECUTANDO EL COMANDO DE PREDICCION Y MOSTRANDO LOS RESULTADOS EN TIEMPO REAL\n",
        "command = f'yolo predict model={train_path} source={img_test_path}'\n",
        "view_real_time_output(command)"
      ]
    },
    {
      "cell_type": "markdown",
      "metadata": {
        "id": "HLAZpHSAGGtS"
      },
      "source": [
        "### TEST CON DATOS REALES"
      ]
    },
    {
      "cell_type": "code",
      "execution_count": null,
      "metadata": {
        "colab": {
          "base_uri": "https://localhost:8080/"
        },
        "id": "96qCW61yLyMX",
        "outputId": "fc65675c-d0c7-4da7-dbbe-3b9d14a0d2b8"
      },
      "outputs": [],
      "source": [
        "# PROBANDO CON IMAGENES REALES\n",
        "os.chdir(root_dir)\n",
        "img_test_path = os.path.join(root_dir,\"./dataset/test.png\")\n",
        "command = f'yolo predict model={train_path} source={img_test_path}'\n",
        "view_real_time_output(command)\n"
      ]
    },
    {
      "cell_type": "code",
      "execution_count": null,
      "metadata": {
        "colab": {
          "base_uri": "https://localhost:8080/",
          "height": 1000
        },
        "id": "jYKqgWfINrql",
        "outputId": "4aea0e91-eee3-4005-cae0-11b2ce371136"
      },
      "outputs": [],
      "source": [
        "# VERIFICANDO LA PREDICCION DE LA IMAGEN DE PRUEBA\n",
        "os.chdir(root_dir)\n",
        "Image.open(os.path.join(root_dir,\"./runs/detect/predict/test.png\"))"
      ]
    }
  ],
  "metadata": {
    "accelerator": "GPU",
    "colab": {
      "gpuType": "T4",
      "provenance": []
    },
    "kernelspec": {
      "display_name": "Python 3",
      "name": "python3"
    },
    "language_info": {
      "codemirror_mode": {
        "name": "ipython",
        "version": 3
      },
      "file_extension": ".py",
      "mimetype": "text/x-python",
      "name": "python",
      "nbconvert_exporter": "python",
      "pygments_lexer": "ipython3",
      "version": "3.10.11"
    }
  },
  "nbformat": 4,
  "nbformat_minor": 0
}
